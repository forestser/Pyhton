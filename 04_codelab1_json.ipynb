{
  "nbformat": 4,
  "nbformat_minor": 0,
  "metadata": {
    "colab": {
      "name": "04_codelab1_json.ipynb",
      "provenance": [],
      "collapsed_sections": [],
      "include_colab_link": true
    },
    "kernelspec": {
      "name": "python3",
      "display_name": "Python 3"
    },
    "language_info": {
      "name": "python"
    }
  },
  "cells": [
    {
      "cell_type": "markdown",
      "metadata": {
        "id": "view-in-github",
        "colab_type": "text"
      },
      "source": [
        "<a href=\"https://colab.research.google.com/github/forestser/Pyhton/blob/main/04_codelab1_json.ipynb\" target=\"_parent\"><img src=\"https://colab.research.google.com/assets/colab-badge.svg\" alt=\"Open In Colab\"/></a>"
      ]
    },
    {
      "cell_type": "code",
      "source": [
        "dt = {'movieCd':'20112207' , 'movieNm':'미션임파서블:고스트프로토콜'}\n",
        "type(dt)"
      ],
      "metadata": {
        "colab": {
          "base_uri": "https://localhost:8080/"
        },
        "id": "aBOGSYFiz2qL",
        "outputId": "9f91f279-1bdc-4029-bc50-c56858b16e0d"
      },
      "execution_count": 2,
      "outputs": [
        {
          "output_type": "execute_result",
          "data": {
            "text/plain": [
              "dict"
            ]
          },
          "metadata": {},
          "execution_count": 2
        }
      ]
    },
    {
      "cell_type": "code",
      "source": [
        "dt['movieNm']"
      ],
      "metadata": {
        "colab": {
          "base_uri": "https://localhost:8080/",
          "height": 36
        },
        "id": "NNUcRL2H0g2i",
        "outputId": "4abbaff5-8504-483e-ca4e-05cfe4289578"
      },
      "execution_count": 4,
      "outputs": [
        {
          "output_type": "execute_result",
          "data": {
            "application/vnd.google.colaboratory.intrinsic+json": {
              "type": "string"
            },
            "text/plain": [
              "'미션임파서블:고스트프로토콜'"
            ]
          },
          "metadata": {},
          "execution_count": 4
        }
      ]
    },
    {
      "cell_type": "code",
      "source": [
        "for item in dt :\n",
        "  print(dt[item])\n",
        "\n",
        "for k, v in dt.items() :\n",
        "  print(k, v)\n",
        "  print(f'영화코드 : {k}, 영화이름 : {v}')"
      ],
      "metadata": {
        "colab": {
          "base_uri": "https://localhost:8080/"
        },
        "id": "aYdx7FZF00fz",
        "outputId": "0d9454a1-8a53-4244-f759-0057a02bbe7a"
      },
      "execution_count": 7,
      "outputs": [
        {
          "output_type": "stream",
          "name": "stdout",
          "text": [
            "20112207\n",
            "미션임파서블:고스트프로토콜\n",
            "movieCd 20112207\n",
            "영화코드 : movieCd, 영화이름 : 20112207\n",
            "movieNm 미션임파서블:고스트프로토콜\n",
            "영화코드 : movieNm, 영화이름 : 미션임파서블:고스트프로토콜\n"
          ]
        }
      ]
    },
    {
      "cell_type": "markdown",
      "metadata": {
        "id": "6XhtXcXjl_ui"
      },
      "source": [
        "# JSON 모듈"
      ]
    },
    {
      "cell_type": "markdown",
      "metadata": {
        "id": "f_b-XYt5mIbL"
      },
      "source": [
        "\n",
        "## **JSON(JavaScript Object Notation)**\n",
        "+ 데이타를 교환하는 포맷으로 키-값의 쌍으로 이루어진 컬렉션\n",
        "+ 데이터 포맷이 단순하고 유연함\n",
        "+ 웹 상에서 데이터를 교환하는 데 많이 사용되고 있음"
      ]
    },
    {
      "cell_type": "markdown",
      "metadata": {
        "id": "YZrPobMcmMNx"
      },
      "source": [
        "## **Python  JSON 표준 라이브러리**\n",
        "```python\n",
        "import json\n",
        "```"
      ]
    },
    {
      "cell_type": "code",
      "metadata": {
        "id": "CYrJN8t2mOsQ"
      },
      "source": [
        "import json"
      ],
      "execution_count": 1,
      "outputs": []
    },
    {
      "cell_type": "markdown",
      "metadata": {
        "id": "lOsdPRUDmgCb"
      },
      "source": [
        "### **JSON 인코딩**\n",
        "\n",
        "```python\n",
        "json.dumps()\n",
        "```\n",
        "\n",
        "+ Python 타입의 데이터를 JSON 문자열로 변경\n",
        "+ 딕션너리, 리스트, 튜플을 JSON 문자열로 변경\n",
        "+ 반환값은 JSON 표현을 갖는 문자열(str 타입)\n",
        "+ \"indent\" 옵션\n",
        " - JSON 문자열을 읽기 편하게  Identation이 적용된 문자열 반환\n",
        " ```python\n",
        "    json.dumps(파이썬자료, indent=4)\n",
        "  ```\n",
        "+ 한글 처리 \n",
        " - ensure_ascii=False\n",
        " ```python\n",
        "    json.dumps(파이썬자료, ensure_ascii=False)\n",
        "  ```\n"
      ]
    },
    {
      "cell_type": "markdown",
      "metadata": {
        "id": "_N83QELN81Uu"
      },
      "source": [
        "&#9997; **python 노트: 컬렉션자료형(collection data type)**\n",
        "\n",
        "---\n",
        "\n",
        "+ 여러 요소를 묶어서 처리할 수 있는 자료형  \n",
        "<img src=\"https://drive.google.com/uc?export=view&id=1qNHKZPJv546haViE6KBY3kg8gUlHJm_F\" width=\"80%\">\n",
        "\n",
        "\n",
        "\n",
        "  + **리스트(list)**\n",
        "    - 리스트의 각 요소는 순서를 가지고 있음\n",
        "    - 대괄호([])로 작성되며 각 요소는 쉼표(,)로 구분\n",
        "    - 요소를 추가(append), 수정, 삭제(pop, remove) 가능\n",
        "\n",
        "  + **튜플(tuple)**\n",
        "    + 튜플의 각 요소는 순서를 가지고 있음\n",
        "    + 괄호(())로 작성되며 각 요소는 쉼표(,)로 구분\n",
        "    + 요소를 추가, 수정, 삭제 불가능\n",
        "    + **한번 결정된 요소는 변경 불가능**\n",
        "    + **인덱싱과 슬라이싱은 리스트와 동일**\n",
        "    + 각 요소에 변수 할당 가능\n",
        "      - x, y = (10, 20)\n",
        "\n",
        "  + **딕션너리(dictionary)**\n",
        "    - 키(key)와 값(value) 쌍을 요소로 가짐\n",
        "      - 요소 키 컬렉션  : 딕션너리명.keys()\n",
        "      - 요소 값 컬렉션 : 딕션너리명.values()\n",
        "    - 중괄호({})로 작성되며 각 요소는 쉼표(,)로 구분\n",
        "    - 순서 없음 \n",
        "    - 키는 변경할 수 없으며 값은 변경가능 \n",
        "\n",
        "  + **집합(set)** \n",
        "    - 중복 없는 요소로만 구성\n",
        "    - 중괄호({}) 작성되며 각 요소는 쉼표(,)로 구분\n",
        "    - 순서 없음\n",
        "    - 집합 연산 가능 \n",
        "      - 교집합(&), 합집합(|), 차집합(-)\n",
        "---"
      ]
    },
    {
      "cell_type": "code",
      "metadata": {
        "colab": {
          "base_uri": "https://localhost:8080/"
        },
        "id": "uKg5Uryimee7",
        "outputId": "f4317bb2-d447-49ce-a396-68bbbe409326"
      },
      "source": [
        "jdata = {\n",
        "    \"request_id\": \"0\",\n",
        "    \"return_type\": \"omAnalysis\",\n",
        "    \"result\": 0,\n",
        "    \"reason\": \"\",\n",
        "    \"return_object\": {\n",
        "        \"query\": \"한국의 가을은 매우 아름답습니다.\",\n",
        "        \"type\": \"감성분석\",\n",
        "        \"score\": 0.9999995231628418,\n",
        "        \"label\": \"긍정\"\n",
        "    },\n",
        "    \"result_code\": \"success\"\n",
        "}\n",
        "print(type(jdata))"
      ],
      "execution_count": 8,
      "outputs": [
        {
          "output_type": "stream",
          "name": "stdout",
          "text": [
            "<class 'dict'>\n"
          ]
        }
      ]
    },
    {
      "cell_type": "code",
      "metadata": {
        "colab": {
          "base_uri": "https://localhost:8080/"
        },
        "id": "fsfQxHfQs3ST",
        "outputId": "64d69d27-7d51-47db-d7d2-3759839addf4"
      },
      "source": [
        " #긍정 자료 추출\n",
        "print(jdata['return_object']['label'])"
      ],
      "execution_count": 9,
      "outputs": [
        {
          "output_type": "stream",
          "name": "stdout",
          "text": [
            "긍정\n"
          ]
        }
      ]
    },
    {
      "cell_type": "code",
      "metadata": {
        "colab": {
          "base_uri": "https://localhost:8080/"
        },
        "id": "1PGydmbbkD-a",
        "outputId": "3a6a2fde-7bf6-4398-aaf9-be20275dbbb6"
      },
      "source": [
        "#json 자료 인코딩  \n",
        "jsonStr = json.dumps(jdata) \n",
        "print(jsonStr)\n",
        "print(type(jsonStr))"
      ],
      "execution_count": 10,
      "outputs": [
        {
          "output_type": "stream",
          "name": "stdout",
          "text": [
            "{\"request_id\": \"0\", \"return_type\": \"omAnalysis\", \"result\": 0, \"reason\": \"\", \"return_object\": {\"query\": \"\\ud55c\\uad6d\\uc758 \\uac00\\uc744\\uc740 \\ub9e4\\uc6b0 \\uc544\\ub984\\ub2f5\\uc2b5\\ub2c8\\ub2e4.\", \"type\": \"\\uac10\\uc131\\ubd84\\uc11d\", \"score\": 0.9999995231628418, \"label\": \"\\uae0d\\uc815\"}, \"result_code\": \"success\"}\n",
            "<class 'str'>\n"
          ]
        }
      ]
    },
    {
      "cell_type": "code",
      "metadata": {
        "colab": {
          "base_uri": "https://localhost:8080/"
        },
        "id": "bk2Ybf7Bm3UQ",
        "outputId": "e92e7942-b0ab-48b4-9e38-122fe87f51c6"
      },
      "source": [
        "# json 자료 인코딩 \n",
        "jsonStr1 = json.dumps(jdata, indent='\\t')  \n",
        "print(jsonStr1)\n",
        "print(type(jsonStr1))"
      ],
      "execution_count": 11,
      "outputs": [
        {
          "output_type": "stream",
          "name": "stdout",
          "text": [
            "{\n",
            "\t\"request_id\": \"0\",\n",
            "\t\"return_type\": \"omAnalysis\",\n",
            "\t\"result\": 0,\n",
            "\t\"reason\": \"\",\n",
            "\t\"return_object\": {\n",
            "\t\t\"query\": \"\\ud55c\\uad6d\\uc758 \\uac00\\uc744\\uc740 \\ub9e4\\uc6b0 \\uc544\\ub984\\ub2f5\\uc2b5\\ub2c8\\ub2e4.\",\n",
            "\t\t\"type\": \"\\uac10\\uc131\\ubd84\\uc11d\",\n",
            "\t\t\"score\": 0.9999995231628418,\n",
            "\t\t\"label\": \"\\uae0d\\uc815\"\n",
            "\t},\n",
            "\t\"result_code\": \"success\"\n",
            "}\n",
            "<class 'str'>\n"
          ]
        }
      ]
    },
    {
      "cell_type": "code",
      "metadata": {
        "colab": {
          "base_uri": "https://localhost:8080/"
        },
        "id": "fk_y1m9om7-C",
        "outputId": "110bf7d3-5717-494a-ceab-52517d917e32"
      },
      "source": [
        "# json 자료 인코딩\n",
        "jsonStr2 = json.dumps(jdata, indent='\\t', ensure_ascii=False) \n",
        "print(jsonStr2)\n",
        "print(type(jsonStr2))"
      ],
      "execution_count": 12,
      "outputs": [
        {
          "output_type": "stream",
          "name": "stdout",
          "text": [
            "{\n",
            "\t\"request_id\": \"0\",\n",
            "\t\"return_type\": \"omAnalysis\",\n",
            "\t\"result\": 0,\n",
            "\t\"reason\": \"\",\n",
            "\t\"return_object\": {\n",
            "\t\t\"query\": \"한국의 가을은 매우 아름답습니다.\",\n",
            "\t\t\"type\": \"감성분석\",\n",
            "\t\t\"score\": 0.9999995231628418,\n",
            "\t\t\"label\": \"긍정\"\n",
            "\t},\n",
            "\t\"result_code\": \"success\"\n",
            "}\n",
            "<class 'str'>\n"
          ]
        }
      ]
    },
    {
      "cell_type": "code",
      "metadata": {
        "colab": {
          "base_uri": "https://localhost:8080/",
          "height": 169
        },
        "id": "39XFflaZx6c_",
        "outputId": "764b226f-3b89-41f4-c3f2-bc233d0f475f"
      },
      "source": [
        "jsonStr2['return_object']"
      ],
      "execution_count": null,
      "outputs": [
        {
          "output_type": "error",
          "ename": "TypeError",
          "evalue": "ignored",
          "traceback": [
            "\u001b[0;31m---------------------------------------------------------------------------\u001b[0m",
            "\u001b[0;31mTypeError\u001b[0m                                 Traceback (most recent call last)",
            "\u001b[0;32m<ipython-input-34-be55398ce88e>\u001b[0m in \u001b[0;36m<module>\u001b[0;34m()\u001b[0m\n\u001b[0;32m----> 1\u001b[0;31m \u001b[0mjsonStr2\u001b[0m\u001b[0;34m[\u001b[0m\u001b[0;34m'return_object'\u001b[0m\u001b[0;34m]\u001b[0m\u001b[0;34m\u001b[0m\u001b[0;34m\u001b[0m\u001b[0m\n\u001b[0m",
            "\u001b[0;31mTypeError\u001b[0m: string indices must be integers"
          ]
        }
      ]
    },
    {
      "cell_type": "markdown",
      "metadata": {
        "id": "CUrA8K6Sm6lK"
      },
      "source": [
        "### **JSON 디코딩**\n",
        "\n",
        "\n",
        "```python\n",
        "json.loads()\n",
        "```\n",
        "\n",
        "+ JSON 문자열을 딕션너리, 리스트, 튜플과 같은 Python 타입으로 변경"
      ]
    },
    {
      "cell_type": "code",
      "metadata": {
        "colab": {
          "base_uri": "https://localhost:8080/"
        },
        "id": "X7tCVVMxyVD3",
        "outputId": "5d383098-f7d9-430d-d16c-9dce6eb8be47"
      },
      "source": [
        "j2 = json.loads(jsonStr2)\n",
        "print(j2)\n",
        "print(type(j2))"
      ],
      "execution_count": 17,
      "outputs": [
        {
          "output_type": "stream",
          "name": "stdout",
          "text": [
            "{'request_id': '0', 'return_type': 'omAnalysis', 'result': 0, 'reason': '', 'return_object': {'query': '한국의 가을은 매우 아름답습니다.', 'type': '감성분석', 'score': 0.9999995231628418, 'label': '긍정'}, 'result_code': 'success'}\n",
            "<class 'dict'>\n"
          ]
        }
      ]
    },
    {
      "cell_type": "code",
      "metadata": {
        "colab": {
          "base_uri": "https://localhost:8080/",
          "height": 35
        },
        "id": "ch52DpysyrrR",
        "outputId": "000c801e-6776-4e5a-c5e6-7badf3d42260"
      },
      "source": [
        "j2['return_object']['label']"
      ],
      "execution_count": null,
      "outputs": [
        {
          "output_type": "execute_result",
          "data": {
            "application/vnd.google.colaboratory.intrinsic+json": {
              "type": "string"
            },
            "text/plain": [
              "'긍정'"
            ]
          },
          "metadata": {
            "tags": []
          },
          "execution_count": 41
        }
      ]
    },
    {
      "cell_type": "markdown",
      "metadata": {
        "id": "vaYPSVcEomOl"
      },
      "source": [
        "&#9997; **python 노트 : with .. as**\n",
        "\n",
        "\n",
        "---\n",
        "\n",
        "\n",
        "```python\n",
        "with open('파일명', '모드') as 파일객체 :\n",
        "```\n",
        "+ 파일을 해당 모드로 open()하면 with구문 종료 후에 자동 close()\n",
        "+ 모드 종류\n",
        "  + 'r' : 읽기 \n",
        "  + 'w' : 쓰기  \n",
        "  + 'a' : 추가 \n",
        "\n",
        "---"
      ]
    },
    {
      "cell_type": "code",
      "metadata": {
        "colab": {
          "base_uri": "https://localhost:8080/"
        },
        "id": "uNyTWhDKnt4a",
        "outputId": "08d9f119-a013-403b-9d77-fc2370674bac"
      },
      "source": [
        "with open('/content/drive/MyDrive/BSSM2022/BSSM2022/data/data.json', 'r') as fp :\n",
        "  ljson = json.load(fp)\n",
        "\n",
        "print(type(ljson))\n",
        "print(ljson)\n",
        "print(ljson.keys())"
      ],
      "execution_count": 21,
      "outputs": [
        {
          "output_type": "stream",
          "name": "stdout",
          "text": [
            "<class 'dict'>\n",
            "{'request_id': '0', 'return_type': 'omAnalysis', 'result': 0, 'reason': '', 'return_object': {'query': '한국의 가을은 매우 아름답습니다.', 'type': '감성분석', 'score': 0.9999995231628418, 'label': '긍정'}, 'result_code': 'success'}\n",
            "dict_keys(['request_id', 'return_type', 'result', 'reason', 'return_object', 'result_code'])\n"
          ]
        }
      ]
    },
    {
      "cell_type": "code",
      "source": [
        "from google.colab import drive\n",
        "drive.mount('/content/drive')"
      ],
      "metadata": {
        "colab": {
          "base_uri": "https://localhost:8080/"
        },
        "id": "zcRFp23X_Qsn",
        "outputId": "83d3cd99-973a-4df0-a0f4-c2d26623de29"
      },
      "execution_count": 19,
      "outputs": [
        {
          "output_type": "stream",
          "name": "stdout",
          "text": [
            "Mounted at /content/drive\n"
          ]
        }
      ]
    },
    {
      "cell_type": "markdown",
      "metadata": {
        "id": "WNrjAo72uMlq"
      },
      "source": [
        "## 해결문제\n",
        "---\n",
        "AI Cloud의 무료 AI 서비스 중 텍스트 감정 분석 결과를 분석하여 이모티콘을 대답해 보세요.\n",
        "+ Open APIs 기반의 AI 서비스 : <https://www.saltlux.ai/portal/main>\n",
        "+ 감정 종류\n",
        "  + 기쁨, 신뢰, 공포, 놀라움, 슬픔, 혐오, 분노, 기대\n",
        "\n",
        "```python\n",
        "😉 파이썬 프로그램 공부는 재미있네요. : 신뢰 ( 0.96%)\n",
        "```\n",
        "\n"
      ]
    },
    {
      "cell_type": "markdown",
      "metadata": {
        "id": "PZm7VPY62RWT"
      },
      "source": [
        "&#9997; **python 노트 : 파이썬으로 유니코드 이모지 출력**\n",
        "\n",
        "\n",
        "---\n",
        "\n",
        "  1. 사용할 이모지의 유니코드값을 찾음 : <http://unicode.org/emoji/charts/full-emoji-list.html>\n",
        "  2. +을 000으로 변경 : U+1F604 -> U0001F604\n",
        "  3. \\\\을 넣어서 print문으로 출력\n",
        "\n",
        "```\n",
        "{'기쁨':'\\U0001F604', '신뢰':'\\U0001F609', '공포':'\\U0001F910', '놀라움':'\\U0001F631', '슬픔':'\\U0001F620', '혐오':'\\U0001F616', '분노':'\\U0001F621', '기대':'\\U0001F9D0'}\n",
        "```\n",
        "---"
      ]
    },
    {
      "cell_type": "code",
      "source": [
        "mv = '''\n",
        "{\"boxOfficeResult\":{\n",
        "  \"boxofficeType\":\"일별 박스오피스\",\"showRange\":\"20220103~20220103\",\"dailyBoxOfficeList\":[{\n",
        "    \"rnum\":\"1\",\"rank\":\"1\",\"rankInten\":\"0\",\"rankOldAndNew\":\"OLD\",\"movieCd\":\"20210028\",\"movieNm\":\"스파이더맨: 노 웨이 홈\",\"openDt\":\"2021-12-15\",\"salesAmt\":\"667909720\",\"salesShare\":\"62.5\",\"salesInten\":\"-1649563350\",\"salesChange\":\"-71.2\",\"salesAcc\":\"61641886910\",\"audiCnt\":\"66799\",\"audiInten\":\"-158578\",\"audiChange\":\"-70.4\",\"audiAcc\":\"6141103\",\"scrnCnt\":\"1985\",\"showCnt\":\"6840\"\n",
        "    },{\n",
        "      \"rnum\":\"2\",\"rank\":\"2\",\"rankInten\":\"0\",\"rankOldAndNew\":\"OLD\",\"movieCd\":\"20194403\",\"movieNm\":\"킹스맨: 퍼스트 에이전트\",\"openDt\":\"2021-12-22\",\"salesAmt\":\"231886460\",\"salesShare\":\"21.7\",\"salesInten\":\"-489853890\",\"salesChange\":\"-67.9\",\"salesAcc\":\"7971389280\",\"audiCnt\":\"23748\",\"audiInten\":\"-46491\",\"audiChange\":\"-66.2\",\"audiAcc\":\"800139\",\"scrnCnt\":\"861\",\"showCnt\":\"2459\"\n",
        "      },{\n",
        "      \"rnum\":\"3\",\"rank\":\"3\",\"rankInten\":\"0\",\"rankOldAndNew\":\"OLD\",\"movieCd\":\"20217807\",\"movieNm\":\"해피 뉴 이어\",\"openDt\":\"2021-12-29\",\"salesAmt\":\"96467670\",\"salesShare\":\"9.0\",\"salesInten\":\"-201370440\",\"salesChange\":\"-67.6\",\"salesAcc\":\"1833383770\",\"audiCnt\":\"10181\",\"audiInten\":\"-19568\",\"audiChange\":\"-65.8\",\"audiAcc\":\"196396\",\"scrnCnt\":\"665\",\"showCnt\":\"1776\"\n",
        "        },{\n",
        "        \"rnum\":\"4\",\"rank\":\"4\",\"rankInten\":\"0\",\"rankOldAndNew\":\"OLD\",\"movieCd\":\"20211281\",\"movieNm\":\"매트릭스: 리저렉션\",\"openDt\":\"2021-12-22\",\"salesAmt\":\"16642200\",\"salesShare\":\"1.6\",\"salesInten\":\"-34263830\",\"salesChange\":\"-67.3\",\"salesAcc\":\"2054031240\",\"audiCnt\":\"1843\",\"audiInten\":\"-3388\",\"audiChange\":\"-64.8\",\"audiAcc\":\"204748\",\"scrnCnt\":\"295\",\"showCnt\":\"393\"\n",
        "        },{\n",
        "        \"rnum\":\"5\",\"rank\":\"5\",\"rankInten\":\"2\",\"rankOldAndNew\":\"OLD\",\"movieCd\":\"20218415\",\"movieNm\":\"드라이브 마이 카\",\"openDt\":\"2021-12-23\",\"salesAmt\":\"9918610\",\"salesShare\":\"0.9\",\"salesInten\":\"-11313500\",\"salesChange\":\"-53.3\",\"salesAcc\":\"218078760\",\"audiCnt\":\"1105\",\"audiInten\":\"-933\",\"audiChange\":\"-45.8\",\"audiAcc\":\"23696\",\"scrnCnt\":\"86\",\"showCnt\":\"107\"\n",
        "          },{\n",
        "          \"rnum\":\"6\",\"rank\":\"6\",\"rankInten\":\"0\",\"rankOldAndNew\":\"OLD\",\"movieCd\":\"20211768\",\"movieNm\":\"신데렐라 2: 마법에 걸린 왕자\",\"openDt\":\"2021-12-22\",\"salesAmt\":\"8823800\",\"salesShare\":\"0.8\",\"salesInten\":\"-16458010\",\"salesChange\":\"-65.1\",\"salesAcc\":\"323665220\",\"audiCnt\":\"1022\",\"audiInten\":\"-1696\",\"audiChange\":\"-62.4\",\"audiAcc\":\"36771\",\"scrnCnt\":\"115\",\"showCnt\":\"140\"\n",
        "            },{\n",
        "            \"rnum\":\"7\",\"rank\":\"7\",\"rankInten\":\"-2\",\"rankOldAndNew\":\"OLD\",\"movieCd\":\"20210864\",\"movieNm\":\"엔칸토: 마법의 세계\",\"openDt\":\"2021-11-24\",\"salesAmt\":\"8059540\",\"salesShare\":\"0.8\",\"salesInten\":\"-19923770\",\"salesChange\":\"-71.2\",\"salesAcc\":\"5952486030\",\"audiCnt\":\"897\",\"audiInten\":\"-2070\",\"audiChange\":\"-69.8\",\"audiAcc\":\"627528\",\"scrnCnt\":\"98\",\"showCnt\":\"132\"\n",
        "              },{\n",
        "              \"rnum\":\"8\",\"rank\":\"8\",\"rankInten\":\"0\",\"rankOldAndNew\":\"OLD\",\"movieCd\":\"20218390\",\"movieNm\":\"램\",\"openDt\":\"2021-12-29\",\"salesAmt\":\"4984880\",\"salesShare\":\"0.5\",\"salesInten\":\"-11934030\",\"salesChange\":\"-70.5\",\"salesAcc\":\"99159070\",\"audiCnt\":\"533\",\"audiInten\":\"-1030\",\"audiChange\":\"-65.9\",\"audiAcc\":\"11058\",\"scrnCnt\":\"88\",\"showCnt\":\"110\"\n",
        "                },{\n",
        "                \"rnum\":\"9\",\"rank\":\"9\",\"rankInten\":\"0\",\"rankOldAndNew\":\"NEW\",\"movieCd\":\"20202433\",\"movieNm\":\"괴짜들의 로맨스\",\"openDt\":\"2021-11-17\",\"salesAmt\":\"706000\",\"salesShare\":\"0.1\",\"salesInten\":\"706000\",\"salesChange\":\"100\",\"salesAcc\":\"52382890\",\"audiCnt\":\"350\",\"audiInten\":\"350\",\"audiChange\":\"100\",\"audiAcc\":\"8101\",\"scrnCnt\":\"2\",\"showCnt\":\"2\"\n",
        "                  },{\n",
        "                  \"rnum\":\"10\",\"rank\":\"10\",\"rankInten\":\"0\",\"rankOldAndNew\":\"NEW\",\"movieCd\":\"20218764\",\"movieNm\":\"씽2게더\",\"openDt\":\"2022-01-05\",\"salesAmt\":\"2403000\",\"salesShare\":\"0.2\",\"salesInten\":\"2403000\",\"salesChange\":\"100\",\"salesAcc\":\"5021000\",\"audiCnt\":\"267\",\"audiInten\":\"267\",\"audiChange\":\"100\",\"audiAcc\":\"557\",\"scrnCnt\":\"2\",\"showCnt\":\"2\"\n",
        "                    }]}}\n",
        "'''"
      ],
      "metadata": {
        "id": "iswalketAjIZ"
      },
      "execution_count": 26,
      "outputs": []
    },
    {
      "cell_type": "code",
      "source": [
        "type(mv)"
      ],
      "metadata": {
        "colab": {
          "base_uri": "https://localhost:8080/"
        },
        "id": "-O8M9OaCAoqW",
        "outputId": "6074eb66-f26c-4b24-f114-a0a55b092fbb"
      },
      "execution_count": 23,
      "outputs": [
        {
          "output_type": "execute_result",
          "data": {
            "text/plain": [
              "str"
            ]
          },
          "metadata": {},
          "execution_count": 23
        }
      ]
    },
    {
      "cell_type": "code",
      "source": [
        "jsonmv = json.loads(mv)\n",
        "for i in jsonmv[\"boxOfficeResult\"][\"dailyBoxOfficeList\"] :\n",
        "  print(i[\"movieNm\"])"
      ],
      "metadata": {
        "colab": {
          "base_uri": "https://localhost:8080/"
        },
        "id": "h0w7gOBlArLV",
        "outputId": "1ed030be-a528-4af3-dceb-9564b847ab53"
      },
      "execution_count": 28,
      "outputs": [
        {
          "output_type": "stream",
          "name": "stdout",
          "text": [
            "스파이더맨: 노 웨이 홈\n",
            "킹스맨: 퍼스트 에이전트\n",
            "해피 뉴 이어\n",
            "매트릭스: 리저렉션\n",
            "드라이브 마이 카\n",
            "신데렐라 2: 마법에 걸린 왕자\n",
            "엔칸토: 마법의 세계\n",
            "램\n",
            "괴짜들의 로맨스\n",
            "씽2게더\n"
          ]
        }
      ]
    },
    {
      "cell_type": "markdown",
      "metadata": {
        "id": "kdz9WJkZuVbU"
      },
      "source": [
        "### 예시)\n",
        "```\n",
        "{\n",
        "    \"query\": \"파이썬 프로그램 공부는 재미있네요.\",\n",
        "    \"type\": \"감정분석\",\n",
        "    \"Result\": [\n",
        "        [\n",
        "            0.9625990390777588,\n",
        "            \"신뢰\"\n",
        "        ]\n",
        "    ]\n",
        "}\n",
        "```"
      ]
    },
    {
      "cell_type": "code",
      "metadata": {
        "id": "b0RYt7MfxS4I"
      },
      "source": [
        "result = '''\n",
        "{\n",
        "    \"query\": \"파이썬 수업을 하게 되어서 정말 기뻐요.\",\n",
        "    \"type\": \"감정분석\",\n",
        "    \"Result\": [\n",
        "        [\n",
        "            0.9137462973594666,\n",
        "            \"신뢰\"\n",
        "        ]\n",
        "    ]\n",
        "}\n",
        "'''"
      ],
      "execution_count": 13,
      "outputs": []
    },
    {
      "cell_type": "code",
      "metadata": {
        "colab": {
          "base_uri": "https://localhost:8080/"
        },
        "id": "VGFb4O_n0iyC",
        "outputId": "8d65bbe2-8150-4222-a5ac-3c70a0ab5494"
      },
      "source": [
        "type(result)"
      ],
      "execution_count": 14,
      "outputs": [
        {
          "output_type": "execute_result",
          "data": {
            "text/plain": [
              "str"
            ]
          },
          "metadata": {},
          "execution_count": 14
        }
      ]
    },
    {
      "cell_type": "code",
      "metadata": {
        "colab": {
          "base_uri": "https://localhost:8080/"
        },
        "id": "rLlWTFYExbC8",
        "outputId": "31f1006d-1b67-4073-ec4b-f3fc3877477c"
      },
      "source": [
        "print(type(result))\n",
        "print(result)"
      ],
      "execution_count": 15,
      "outputs": [
        {
          "output_type": "stream",
          "name": "stdout",
          "text": [
            "<class 'str'>\n",
            "\n",
            "{\n",
            "    \"query\": \"파이썬 수업을 하게 되어서 정말 기뻐요.\",\n",
            "    \"type\": \"감정분석\",\n",
            "    \"Result\": [\n",
            "        [\n",
            "            0.9137462973594666,\n",
            "            \"신뢰\"\n",
            "        ]\n",
            "    ]\n",
            "}\n",
            "\n"
          ]
        }
      ]
    },
    {
      "cell_type": "code",
      "metadata": {
        "colab": {
          "base_uri": "https://localhost:8080/"
        },
        "id": "N7rD5LtSxpEa",
        "outputId": "7863a6da-2135-474b-89c5-4811a08e9ecd"
      },
      "source": [
        " "
      ],
      "execution_count": null,
      "outputs": [
        {
          "output_type": "stream",
          "text": [
            "<class 'dict'>\n",
            "{'query': '파이썬 수업을 하게 되어서 정말 기뻐요.', 'type': '감정분석', 'Result': [[0.9137462973594666, '신뢰']]}\n"
          ],
          "name": "stdout"
        }
      ]
    },
    {
      "cell_type": "code",
      "metadata": {
        "id": "KKvSOxsu4QHG"
      },
      "source": [
        "dt = {'기쁨':'\\U0001F604', '신뢰':'\\U0001F609', '공포':'\\U0001F910', '놀라움':'\\U0001F631', '슬픔':'\\U0001F620', '혐오':'\\U0001F616', '분노':'\\U0001F621', '기대':'\\U0001F9D0'}"
      ],
      "execution_count": null,
      "outputs": []
    },
    {
      "cell_type": "code",
      "metadata": {
        "colab": {
          "base_uri": "https://localhost:8080/",
          "height": 35
        },
        "id": "bzbsEqVC18WE",
        "outputId": "90d2f65c-6d99-4b7a-e011-3e4a5912854a"
      },
      "source": [
        " "
      ],
      "execution_count": null,
      "outputs": [
        {
          "output_type": "execute_result",
          "data": {
            "application/vnd.google.colaboratory.intrinsic+json": {
              "type": "string"
            },
            "text/plain": [
              "'신뢰'"
            ]
          },
          "metadata": {
            "tags": []
          },
          "execution_count": 60
        }
      ]
    },
    {
      "cell_type": "code",
      "metadata": {
        "colab": {
          "base_uri": "https://localhost:8080/"
        },
        "id": "Ua1g08gL0umD",
        "outputId": "320cf863-36e3-4e3b-e220-cce2eb6048b7"
      },
      "source": [
        " "
      ],
      "execution_count": null,
      "outputs": [
        {
          "output_type": "stream",
          "text": [
            "😉파이썬 수업을 하게 되어서 정말 기뻐요. : 신뢰 (91.37%) \n"
          ],
          "name": "stdout"
        }
      ]
    }
  ]
}